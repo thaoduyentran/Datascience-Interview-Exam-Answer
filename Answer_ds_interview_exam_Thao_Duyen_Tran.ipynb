{
  "cells": [
    {
      "cell_type": "markdown",
      "metadata": {
        "id": "view-in-github",
        "colab_type": "text"
      },
      "source": [
        "<a href=\"https://colab.research.google.com/github/thaoduyentran/Datascience-Interview-Exam-Answer/blob/main/Answer_ds_interview_exam_Thao_Duyen_Tran.ipynb\" target=\"_parent\"><img src=\"https://colab.research.google.com/assets/colab-badge.svg\" alt=\"Open In Colab\"/></a>"
      ]
    },
    {
      "cell_type": "markdown",
      "metadata": {
        "id": "q_8qoxaqEMnH"
      },
      "source": [
        "<div class=\"clearfix\" style=\"padding: 10px; padding-left: 0px\">\n",
        "<a href=\"http://bombora.com\"><img src=\"https://app.box.com/shared/static/e0j9v1xjmubit0inthhgv3llwnoansjp.png\" width=\"200px\" class=\"pull-right\" style=\"display: inline-block; margin: 5px; vertical-align: middle;\"></a>\n",
        "<h1> Bombora Data Science: <br> *Interview Exam* </h1>\n",
        "</div>\n",
        "\n",
        "<img width=\"200px\" src=\"https://app.box.com/shared/static/15slg1mvjd1zldbg3xkj9picjkmhzpa5.png\">"
      ]
    },
    {
      "cell_type": "markdown",
      "metadata": {
        "id": "pW83zjS_EMnM"
      },
      "source": [
        "---\n",
        "# Welcome\n",
        "\n",
        "Welcome! This notebook contains interview assessment questions referenced in the *Instructions* section in the `README.md`—please read that first, *before* attempting to answer questions here.\n",
        "\n",
        "<div class=\"alert alert-info\" role=\"alert\" style=\"margin: 10px\">\n",
        "<p style=\"font-weight:bold\">ADVICE</p>\n",
        "<p>*Do not* read these questions, and panic, *before* reading the instructions in `README.md`.</p>\n",
        "</div>\n",
        "\n",
        "## Have fun!\n",
        "\n",
        "Regardless of outcome, getting to know you is important. Give it your best shot and we look forward to reading your results and following up! Remember, even if you do not completely finish a question from each section, its fine."
      ]
    },
    {
      "cell_type": "markdown",
      "metadata": {
        "id": "b5H6ojGPEMnM"
      },
      "source": [
        "# Exam Questions"
      ]
    },
    {
      "cell_type": "markdown",
      "metadata": {
        "id": "95-qEd8oEMnN"
      },
      "source": [
        "## 1. Algo + Data Structures\n",
        "#### Please limit yourself to a half hour for this section"
      ]
    },
    {
      "cell_type": "markdown",
      "metadata": {
        "id": "coODZV1UEMnN"
      },
      "source": [
        "### Q 1.1: Fibionacci\n",
        "![fib image](https://upload.wikimedia.org/wikipedia/commons/thumb/9/93/Fibonacci_spiral_34.svg/200px-Fibonacci_spiral_34.svg.png)"
      ]
    },
    {
      "cell_type": "markdown",
      "metadata": {
        "id": "Rng-J1jbEMnN"
      },
      "source": [
        "#### Q 1.1.1\n",
        "Given $n$ where $n \\in \\mathbb{N}$ (i.e., $n$ is an integer and $n > 0$), write a function `fibonacci(n)` that computes the Fibonacci number $F_n$, where $F_n$ is defined by the recurrence relation:\n",
        "\n",
        "$$ F_n = F_{n-1} + F_{n-2}$$\n",
        "\n",
        "with initial conditions of:\n",
        "\n",
        "$$ F_1 = 1,  F_2 = 1$$"
      ]
    },
    {
      "cell_type": "markdown",
      "metadata": {
        "id": "QJ2g1qitEMnO"
      },
      "source": [
        "#### Q 1.1.2\n",
        "What's the complexity of your implementation?"
      ]
    },
    {
      "cell_type": "markdown",
      "metadata": {
        "id": "VIJQxtgQEMnO"
      },
      "source": [
        "#### Q 1.1.3\n",
        "Consider an alternative implementation to compute Fibonacci number $F_n$ and write a new function, `fibonacci2(n)`."
      ]
    },
    {
      "cell_type": "markdown",
      "metadata": {
        "id": "_Ms0AX9zEMnP"
      },
      "source": [
        "#### Q 1.1.4\n",
        "What's the complexity of your implementation?"
      ]
    },
    {
      "cell_type": "markdown",
      "metadata": {
        "id": "agbVBIRcEMnP"
      },
      "source": [
        "#### Q 1.1.5\n",
        "(Optional) What are some examples of optimizations that could improve computational performance?\n"
      ]
    },
    {
      "cell_type": "markdown",
      "metadata": {
        "id": "U17H2rSGEMnP"
      },
      "source": [
        "### Q 1.2: Linked List\n",
        "![ll img](https://upload.wikimedia.org/wikipedia/commons/thumb/6/6d/Singly-linked-list.svg/500px-Singly-linked-list.svg.png)"
      ]
    },
    {
      "cell_type": "markdown",
      "metadata": {
        "id": "9CNZh-CeEMnQ"
      },
      "source": [
        "#### Q 1.2.1\n",
        "Consider a [singly linked list](https://en.wikipedia.org/wiki/Linked_list), $L$. Write a function `is_palindrome(L)` that detects if $L$ is a [palindrome](https://en.wikipedia.org/wiki/Palindrome), by returning a bool, `True` or `False`.\n"
      ]
    },
    {
      "cell_type": "markdown",
      "source": [
        "We can split this approach into 2 steps:\n",
        "\n",
        "1. Copying the Linked List into an Array.\n",
        "2. Checking whether or not the Array is a palindrome.\n",
        "\n",
        "\n"
      ],
      "metadata": {
        "id": "F_FsjaePuH2u"
      }
    },
    {
      "cell_type": "code",
      "source": [
        "# Definition for singly linked list\n",
        "class ListNode:\n",
        "    def __init__(self, data):\n",
        "        \n",
        "        # store data\n",
        "        self.data = data\n",
        "        \n",
        "        # store reference (next item)\n",
        "        self.next = None\n",
        "        return\n",
        "    \n",
        "    def has_value(self, value):\n",
        "        \"method to compare the value with the node data\"\n",
        "        if self.data == value:\n",
        "            return True\n",
        "        else:\n",
        "            return False\n",
        "class Solution:\n",
        "  def is_palindrome(node):\n",
        "    #build array of traversed elements\n",
        "    arr = []  \n",
        "    while (node != None):\n",
        "        # append values from the linked list to the Array\n",
        "        arr.append(node.data)\n",
        "\n",
        "    #Compare complementary elements\n",
        "    #Check if the Array is a palindrom (left values = right values)           \n",
        "    l,r = 0         # l, r are indexes to locate the value of the Array \n",
        "    len(arr) - 1    # len(arr) - 1 is the last index of the Array \n",
        "    while l<=r:\n",
        "        if (arr[l] != arr[r]):      #compare the left values and the right values\n",
        "            return False\n",
        "        #the two elements are equal, keep going to check all elements\n",
        "        l += 1\n",
        "        r -= 1\n",
        "    return True\n"
      ],
      "metadata": {
        "id": "hKV4Gpx3ETv3"
      },
      "execution_count": null,
      "outputs": []
    },
    {
      "cell_type": "markdown",
      "source": [
        "**Test Cases**"
      ],
      "metadata": {
        "id": "n2h3kxGervxt"
      }
    },
    {
      "cell_type": "code",
      "source": [
        "# Test case 1\n",
        "node1 = ListNode(5)\n",
        "node2 = ListNode(2)\n",
        "node3 = ListNode(9)\n",
        "node4 = ListNode(2)\n",
        "node5 = ListNode(5)\n",
        "node1.next = node2\n",
        "node2.next = node3\n",
        "node3.next = node4\n",
        "node4.next = node5\n",
        "\n",
        "print(is_palindrome(node1))"
      ],
      "metadata": {
        "colab": {
          "base_uri": "https://localhost:8080/"
        },
        "id": "rvWC__XTrtcG",
        "outputId": "b6704b16-9d6c-43b6-f6ad-24462fa97715"
      },
      "execution_count": null,
      "outputs": [
        {
          "output_type": "stream",
          "name": "stdout",
          "text": [
            "True\n"
          ]
        }
      ]
    },
    {
      "cell_type": "code",
      "source": [
        "# Test case 2\n",
        "node1 = ListNode(5)\n",
        "node2 = ListNode(2)\n",
        "node3 = ListNode(9)\n",
        "node4 = ListNode(2)\n",
        "node5 = ListNode(3)\n",
        "node1.next = node2\n",
        "node2.next = node3\n",
        "node3.next = node4\n",
        "node4.next = node5\n",
        "\n",
        "print(is_palindrome(node1))"
      ],
      "metadata": {
        "colab": {
          "base_uri": "https://localhost:8080/"
        },
        "id": "z6lfFMi8r6kg",
        "outputId": "95dc96ac-feb2-4cc6-9032-83a063446a79"
      },
      "execution_count": null,
      "outputs": [
        {
          "output_type": "stream",
          "name": "stdout",
          "text": [
            "False\n"
          ]
        }
      ]
    },
    {
      "cell_type": "markdown",
      "metadata": {
        "id": "3fzf4FFhEMnQ"
      },
      "source": [
        "#### Q 1.2.2\n",
        "What is the complexity of your implementation?"
      ]
    },
    {
      "cell_type": "markdown",
      "source": [
        "Time complexity : O ( n ) O(n), where n n is the number of nodes in the Linked List.\n",
        "In the first part, we're copying a Linked List into an Array List. Iterating down a Linked List in sequential order is O ( n ) O(n), and each of the n n writes to the ArrayList is O ( 1 ) O(1). Therefore, the overall cost is O ( n ) O(n).\n",
        "In the second part, we're comparing the number on each side (left/right) of the array to check whether or not the Array List is a palindrome. Each of the n n values in the Array list is accessed once, and a total of O ( n / 2 ) O(n/2) comparisons are done. Therefore, the overall cost is O ( n ) O(n). The Python trick (reverse and list comparison as a one liner) is also O ( n ) O(n).\n",
        "This gives O ( 2 n ) = O ( n ) O(2n)=O(n) because we always drop the constants.\n",
        "Space complexity : O ( n ) O(n), where n n is the number of nodes in the Linked List.\n",
        "We are making an Array List and adding n n values to it."
      ],
      "metadata": {
        "id": "enzYgFU1LZeT"
      }
    },
    {
      "cell_type": "markdown",
      "metadata": {
        "id": "gCvJT0HwEMnR"
      },
      "source": [
        "#### Q 1.2.3\n",
        "Consider an alternative implementation to detect if L is a palindrome and write a new function, `is_palindrome2(L)`."
      ]
    },
    {
      "cell_type": "markdown",
      "source": [
        "**Recursive**\n",
        "\n",
        "Recursion gives us an elegant way to iterate through the nodes in reverse. For example, this algorithm will print out the values of the nodes in reverse. Given a node, the algorithm checks if it is null. If it is null, nothing happens. Otherwise, all nodes after it are processed, and then the value for the current node is printed."
      ],
      "metadata": {
        "id": "Y6Ggrr8BMCyt"
      }
    },
    {
      "cell_type": "markdown",
      "source": [
        "When given the head node (or any other node), referred to as currentNode, the algorithm firstly checks the rest of the Linked List. If it discovers that further down that the Linked List is not a palindrome, then it returns false. Otherwise, it checks that currentNode.val == frontPointer.val. If not, then it returns false. Otherwise, it moves frontPointer forward by 1 node and returns true to say that from this point forward, the Linked List is a valid palindrome.\n",
        "\n",
        "It might initially seem surprisingly that frontPointer is always pointing where we want it. The reason it works is because the order in which nodes are processed by the recursion is in reverse (remember our \"printing\" algorithm above). Each node compares itself against frontPointer and then moves frontPointer down by 1, ready for the next node in the recursion. In essence, we are iterating both backwards and forwards at the same time.\n",
        "\n",
        "Here is an animation that shows how the algorithm works. The nodes have each been given a unique identifier (e.g. \n",
        "1\n",
        "‘\n",
        "a\n",
        "n\n",
        "d\n",
        "‘\n",
        "1‘and‘4) so that they can more easily be referred to in the explanations. The computer needs to use its runtime stack for recursive functions."
      ],
      "metadata": {
        "id": "6SgbOuD7wovs"
      }
    },
    {
      "cell_type": "code",
      "source": [
        "def isPalindrome2(self, head: ListNode) -> bool:\n",
        "\n",
        "    self.front_pointer = head\n",
        "\n",
        "    def recursively_check(current_node=head):\n",
        "        if current_node is not None:\n",
        "            if not recursively_check(current_node.next):\n",
        "                return False\n",
        "            if self.front_pointer.val != current_node.val:\n",
        "                return False\n",
        "            self.front_pointer = self.front_pointer.next\n",
        "        return True\n",
        "\n",
        "    return recursively_check()"
      ],
      "metadata": {
        "id": "HoVWiIIrMDs6"
      },
      "execution_count": null,
      "outputs": []
    },
    {
      "cell_type": "markdown",
      "metadata": {
        "id": "PWDFMlt1EMnR"
      },
      "source": [
        "#### Q 1.2.4\n",
        "What's the complexity of this implementation?\n"
      ]
    },
    {
      "cell_type": "markdown",
      "source": [
        "Time complexity : \n",
        "O\n",
        "(\n",
        "n\n",
        ")\n",
        "O(n), where \n",
        "n\n",
        "n is the number of nodes in the Linked List.\n",
        "\n",
        "The recursive function is run once for each of the \n",
        "n\n",
        "n nodes, and the body of the recursive function is \n",
        "O\n",
        "(\n",
        "1\n",
        ")\n",
        "O(1). Therefore, this gives a total of \n",
        "O\n",
        "(\n",
        "n\n",
        ")\n",
        "O(n).\n",
        "\n",
        "Space complexity : \n",
        "O\n",
        "(\n",
        "n\n",
        ")\n",
        "O(n), where \n",
        "n\n",
        "n is the number of nodes in the Linked List."
      ],
      "metadata": {
        "id": "W0Ost_mFMYZi"
      }
    },
    {
      "cell_type": "code",
      "source": [
        ""
      ],
      "metadata": {
        "id": "sAR5l5v4MX7A"
      },
      "execution_count": null,
      "outputs": []
    },
    {
      "cell_type": "markdown",
      "metadata": {
        "id": "EzcMoXskEMnS"
      },
      "source": [
        "#### Q 1.2.5 \n",
        "(Optional) What are some examples of optimizations that could improve computational performance?\n"
      ]
    },
    {
      "cell_type": "markdown",
      "source": [
        "**Two pointer technique** \n",
        "\n",
        "Make a reversed copy of a list and also straightforward to compare two lists. In the two-pointer technique, we put a pointer at the start and a pointer at the end, and at each step check the values are equal and then move the pointers inwards until they meet at the center.\n",
        "\n",
        "We compare values in the nodes, not the nodes themselves. node_1.val == node_2.val"
      ],
      "metadata": {
        "id": "3y1wQ12JtpM6"
      }
    },
    {
      "cell_type": "code",
      "source": [
        "# Definition for singly linked list \n",
        "class L:\n",
        "  def init(self, val=0, next=None):\n",
        "    self.val = val \n",
        "    self.next = next"
      ],
      "metadata": {
        "id": "eIwobEAoq9lv"
      },
      "execution_count": null,
      "outputs": []
    },
    {
      "cell_type": "code",
      "source": [
        "# More optimized solution using two pointer technique\n",
        "def isPalindrome(self, head: ListNode) -> bool:\n",
        "    vals = []\n",
        "    current_node = head\n",
        "    while current_node is not None:\n",
        "        vals.append(current_node.val)\n",
        "        current_node = current_node.next\n",
        "    return vals == vals[::-1]"
      ],
      "metadata": {
        "id": "LxhAP5dAMila"
      },
      "execution_count": null,
      "outputs": []
    },
    {
      "cell_type": "markdown",
      "metadata": {
        "id": "d5vlX-0xEMnT"
      },
      "source": [
        "----\n",
        "## 2. Prob + Stats\n",
        "#### Please limit yourself to a half hour for this section"
      ]
    },
    {
      "cell_type": "markdown",
      "metadata": {
        "id": "ElVMD3SVEMnT"
      },
      "source": [
        "### Q 2.1: Making a 6-side die roll a 7?\n",
        "\n",
        "Using a single 6-side die, how can you generate a random number between 1 - 7?"
      ]
    },
    {
      "cell_type": "markdown",
      "source": [
        "Any die has six sides from 1–6. There is no way to get seven equal outcomes from a single round of a die. If we roll the die twice and consider the event of two rolls, we now have 36 different outcomes.\n",
        "To get our 7 equal outcomes we have to reduce this 36 to a number divisible by 7. We can thus consider only 35 outcomes and prohibit the other one.\n",
        "A simple scenario can be to exclude the combination (6,6), i.e., to roll the die again if 6 appears twice.\n",
        "All the remaining combinations from (1,1) till (6,5) can be divided into 7 parts of 5 each. This way all the seven sets of outcomes are equally likely."
      ],
      "metadata": {
        "id": "0q3Svk0rpIjP"
      }
    },
    {
      "cell_type": "markdown",
      "metadata": {
        "id": "kHPoPROXEMnT"
      },
      "source": [
        "### Q 2.2: Is normality uniform?\n",
        "\n",
        "<img src=https://rednaxela1618.files.wordpress.com/2014/06/uniformnormal.png width=\"480\">\n",
        "\n",
        "\n",
        "Given draws from a normal distribution with known parameters, how can you simulate draws from a uniform distribution?"
      ]
    },
    {
      "cell_type": "markdown",
      "source": [
        "We can plug the draw into the CDF of the normal distribution of those parameters. That is plug it into its own CDF. The technique is call Universality of the Uniform"
      ],
      "metadata": {
        "id": "ozBIxMkyqVoA"
      }
    },
    {
      "cell_type": "markdown",
      "metadata": {
        "id": "k_vrHA_2EMnU"
      },
      "source": [
        "### Q 2.3: Uber vs. Lyft\n",
        "\n",
        "![uber vs lyft](http://usiaffinity.typepad.com/.a/6a01347fc1cb08970c01bb0876bcbe970d-pi)\n",
        "\n",
        "You request 2 UberX’s and 3 Lyfts. If the time that each takes to reach you is IID (Independent and identically distributed), what is the probability that all the Lyfts arrive first? What is the probability that all the UberX’s arrive first?"
      ]
    },
    {
      "cell_type": "markdown",
      "source": [
        "**All Lyft's first**\n",
        "\n",
        "probability that the first car is Lyft = 3/5\n",
        "\n",
        "probability that the second car is Lyft = 2/4\n",
        "\n",
        "probability that the third car is Lyft = 1/3 \n",
        "\n",
        "Therefore, probability that all the Lyfts arrive first = (3/5) * (2/4) * (1/3) = 1/10\n",
        "\n",
        "**All Uber's first**\n",
        "\n",
        "probability that the first car is Uber = 2/5\n",
        "\n",
        "probability that the second car is Uber = 1/4 \n",
        "\n",
        "Therefore, probability that all the Ubers arrive first = (2/5) * (1/4) = 1/10"
      ],
      "metadata": {
        "id": "NJ0bk8cSpcdA"
      }
    },
    {
      "cell_type": "markdown",
      "metadata": {
        "id": "KgKKP78UEMnU"
      },
      "source": [
        "--------\n",
        "## 3. NLP Algorithm Development\n",
        "#### Please limit yourself to three hours for this section\n",
        "\n",
        "Please provide all code and results. Use markdown cells to explain your approach. If there are pieces you couldn’t get to, or approaches you did not have time to explore, then please document your thoughts."
      ]
    },
    {
      "cell_type": "markdown",
      "metadata": {
        "tags": [],
        "id": "MsNKujHJEMnU"
      },
      "source": [
        "### Q 3.1 Build a Multi-Class Classifier\n",
        "\n",
        "#### Overview\n",
        "\n",
        "This exercise is a representation of the problem sets that are critical to our platform and success. You are asked to create a multi-class classification problem using the “option_1.csv” dataset. There is a list of 5K reviews for several product categories. Create a classification model to classify the review text into each category.\n",
        "\n",
        "#### Data\n",
        "“Text” – A review given by a customer for a purchased item\n",
        "\n",
        "“Cat” – A category for the item being reviewed"
      ]
    },
    {
      "cell_type": "code",
      "source": [
        "# Import libraries\n",
        "import pandas as pd\n",
        "import os\n",
        "import pandas as pd\n",
        "import numpy as np\n",
        "from scipy.stats import randint\n",
        "import seaborn as sns # used for plot interactive graph.\n",
        "import matplotlib.pyplot as plt\n",
        "import seaborn as sns\n",
        "from io import StringIO\n",
        "from sklearn.feature_extraction.text import TfidfVectorizer\n",
        "from sklearn.feature_selection import chi2\n",
        "from IPython.display import display\n",
        "from sklearn.model_selection import train_test_split\n",
        "from sklearn.feature_extraction.text import TfidfTransformer\n",
        "from sklearn.naive_bayes import MultinomialNB\n",
        "from sklearn.linear_model import LogisticRegression\n",
        "from sklearn.ensemble import RandomForestClassifier\n",
        "from sklearn.svm import LinearSVC\n",
        "from sklearn.model_selection import cross_val_score\n",
        "from sklearn.metrics import confusion_matrix\n",
        "from sklearn import metrics\n",
        "\n",
        "#Load data\n",
        "df=pd.read_csv(\"https://raw.githubusercontent.com/bomboradata/datascience-exam/master/option_1.csv\")\n",
        "df.head()"
      ],
      "metadata": {
        "colab": {
          "base_uri": "https://localhost:8080/",
          "height": 204
        },
        "id": "igMVZt6fODEn",
        "outputId": "e2096c72-fb81-4ccb-fb31-eceaa5ce1d51"
      },
      "execution_count": null,
      "outputs": [
        {
          "output_type": "execute_result",
          "data": {
            "text/html": [
              "\n",
              "  <div id=\"df-2f888f6e-4cb9-48bb-b234-c7b97d83a47d\">\n",
              "    <div class=\"colab-df-container\">\n",
              "      <div>\n",
              "<style scoped>\n",
              "    .dataframe tbody tr th:only-of-type {\n",
              "        vertical-align: middle;\n",
              "    }\n",
              "\n",
              "    .dataframe tbody tr th {\n",
              "        vertical-align: top;\n",
              "    }\n",
              "\n",
              "    .dataframe thead th {\n",
              "        text-align: right;\n",
              "    }\n",
              "</style>\n",
              "<table border=\"1\" class=\"dataframe\">\n",
              "  <thead>\n",
              "    <tr style=\"text-align: right;\">\n",
              "      <th></th>\n",
              "      <th>Text</th>\n",
              "      <th>Cat</th>\n",
              "    </tr>\n",
              "  </thead>\n",
              "  <tbody>\n",
              "    <tr>\n",
              "      <th>0</th>\n",
              "      <td>Hi! I'm Martine Redman and I created this puzz...</td>\n",
              "      <td>puzzles</td>\n",
              "    </tr>\n",
              "    <tr>\n",
              "      <th>1</th>\n",
              "      <td>120 colors? I say 120 sticks of fun! And a fre...</td>\n",
              "      <td>arts crafts</td>\n",
              "    </tr>\n",
              "    <tr>\n",
              "      <th>2</th>\n",
              "      <td>What a wonderful creation. Art, in our house, ...</td>\n",
              "      <td>arts crafts</td>\n",
              "    </tr>\n",
              "    <tr>\n",
              "      <th>3</th>\n",
              "      <td>Meowth is the coolest, lots of play value. Gre...</td>\n",
              "      <td>action toy figures</td>\n",
              "    </tr>\n",
              "    <tr>\n",
              "      <th>4</th>\n",
              "      <td>You can give a MagnaDoodle to any kid who's ab...</td>\n",
              "      <td>arts crafts</td>\n",
              "    </tr>\n",
              "  </tbody>\n",
              "</table>\n",
              "</div>\n",
              "      <button class=\"colab-df-convert\" onclick=\"convertToInteractive('df-2f888f6e-4cb9-48bb-b234-c7b97d83a47d')\"\n",
              "              title=\"Convert this dataframe to an interactive table.\"\n",
              "              style=\"display:none;\">\n",
              "        \n",
              "  <svg xmlns=\"http://www.w3.org/2000/svg\" height=\"24px\"viewBox=\"0 0 24 24\"\n",
              "       width=\"24px\">\n",
              "    <path d=\"M0 0h24v24H0V0z\" fill=\"none\"/>\n",
              "    <path d=\"M18.56 5.44l.94 2.06.94-2.06 2.06-.94-2.06-.94-.94-2.06-.94 2.06-2.06.94zm-11 1L8.5 8.5l.94-2.06 2.06-.94-2.06-.94L8.5 2.5l-.94 2.06-2.06.94zm10 10l.94 2.06.94-2.06 2.06-.94-2.06-.94-.94-2.06-.94 2.06-2.06.94z\"/><path d=\"M17.41 7.96l-1.37-1.37c-.4-.4-.92-.59-1.43-.59-.52 0-1.04.2-1.43.59L10.3 9.45l-7.72 7.72c-.78.78-.78 2.05 0 2.83L4 21.41c.39.39.9.59 1.41.59.51 0 1.02-.2 1.41-.59l7.78-7.78 2.81-2.81c.8-.78.8-2.07 0-2.86zM5.41 20L4 18.59l7.72-7.72 1.47 1.35L5.41 20z\"/>\n",
              "  </svg>\n",
              "      </button>\n",
              "      \n",
              "  <style>\n",
              "    .colab-df-container {\n",
              "      display:flex;\n",
              "      flex-wrap:wrap;\n",
              "      gap: 12px;\n",
              "    }\n",
              "\n",
              "    .colab-df-convert {\n",
              "      background-color: #E8F0FE;\n",
              "      border: none;\n",
              "      border-radius: 50%;\n",
              "      cursor: pointer;\n",
              "      display: none;\n",
              "      fill: #1967D2;\n",
              "      height: 32px;\n",
              "      padding: 0 0 0 0;\n",
              "      width: 32px;\n",
              "    }\n",
              "\n",
              "    .colab-df-convert:hover {\n",
              "      background-color: #E2EBFA;\n",
              "      box-shadow: 0px 1px 2px rgba(60, 64, 67, 0.3), 0px 1px 3px 1px rgba(60, 64, 67, 0.15);\n",
              "      fill: #174EA6;\n",
              "    }\n",
              "\n",
              "    [theme=dark] .colab-df-convert {\n",
              "      background-color: #3B4455;\n",
              "      fill: #D2E3FC;\n",
              "    }\n",
              "\n",
              "    [theme=dark] .colab-df-convert:hover {\n",
              "      background-color: #434B5C;\n",
              "      box-shadow: 0px 1px 3px 1px rgba(0, 0, 0, 0.15);\n",
              "      filter: drop-shadow(0px 1px 2px rgba(0, 0, 0, 0.3));\n",
              "      fill: #FFFFFF;\n",
              "    }\n",
              "  </style>\n",
              "\n",
              "      <script>\n",
              "        const buttonEl =\n",
              "          document.querySelector('#df-2f888f6e-4cb9-48bb-b234-c7b97d83a47d button.colab-df-convert');\n",
              "        buttonEl.style.display =\n",
              "          google.colab.kernel.accessAllowed ? 'block' : 'none';\n",
              "\n",
              "        async function convertToInteractive(key) {\n",
              "          const element = document.querySelector('#df-2f888f6e-4cb9-48bb-b234-c7b97d83a47d');\n",
              "          const dataTable =\n",
              "            await google.colab.kernel.invokeFunction('convertToInteractive',\n",
              "                                                     [key], {});\n",
              "          if (!dataTable) return;\n",
              "\n",
              "          const docLinkHtml = 'Like what you see? Visit the ' +\n",
              "            '<a target=\"_blank\" href=https://colab.research.google.com/notebooks/data_table.ipynb>data table notebook</a>'\n",
              "            + ' to learn more about interactive tables.';\n",
              "          element.innerHTML = '';\n",
              "          dataTable['output_type'] = 'display_data';\n",
              "          await google.colab.output.renderOutput(dataTable, element);\n",
              "          const docLink = document.createElement('div');\n",
              "          docLink.innerHTML = docLinkHtml;\n",
              "          element.appendChild(docLink);\n",
              "        }\n",
              "      </script>\n",
              "    </div>\n",
              "  </div>\n",
              "  "
            ],
            "text/plain": [
              "                                                Text                 Cat\n",
              "0  Hi! I'm Martine Redman and I created this puzz...             puzzles\n",
              "1  120 colors? I say 120 sticks of fun! And a fre...         arts crafts\n",
              "2  What a wonderful creation. Art, in our house, ...         arts crafts\n",
              "3  Meowth is the coolest, lots of play value. Gre...  action toy figures\n",
              "4  You can give a MagnaDoodle to any kid who's ab...         arts crafts"
            ]
          },
          "metadata": {},
          "execution_count": 23
        }
      ]
    },
    {
      "cell_type": "code",
      "source": [
        "# Check null \n",
        "df.isna()"
      ],
      "metadata": {
        "id": "NYXNxGXgROlw"
      },
      "execution_count": null,
      "outputs": []
    },
    {
      "cell_type": "code",
      "source": [
        "# Remove missing values\n",
        "df1 = df[pd.notnull(df)]"
      ],
      "metadata": {
        "id": "SmMY9jOJROZp"
      },
      "execution_count": null,
      "outputs": []
    },
    {
      "cell_type": "code",
      "source": [
        "# Check unique values\n",
        "pd.DataFrame(df1.Cat.unique()).values"
      ],
      "metadata": {
        "colab": {
          "base_uri": "https://localhost:8080/"
        },
        "id": "d7LdW79vRONI",
        "outputId": "744c9768-8a9c-450e-d9b3-26727c36ae71"
      },
      "execution_count": null,
      "outputs": [
        {
          "output_type": "execute_result",
          "data": {
            "text/plain": [
              "array([['puzzles'],\n",
              "       ['arts crafts'],\n",
              "       ['action toy figures'],\n",
              "       ['personal care'],\n",
              "       ['nutrition wellness'],\n",
              "       ['learning education'],\n",
              "       ['electronics for kids'],\n",
              "       ['household supplies'],\n",
              "       ['stuffed animals plush'],\n",
              "       ['health care'],\n",
              "       ['medical supplies equipment'],\n",
              "       ['building toys'],\n",
              "       ['sports outdoor play'],\n",
              "       ['cats'],\n",
              "       ['dogs'],\n",
              "       ['breakfast foods'],\n",
              "       ['cooking baking supplies'],\n",
              "       ['snack food'],\n",
              "       ['baby food'],\n",
              "       ['fish aquatic pets']], dtype=object)"
            ]
          },
          "metadata": {},
          "execution_count": 15
        }
      ]
    },
    {
      "cell_type": "code",
      "source": [
        "# Create a new column 'Cat_id' with encoded categories \n",
        "df1['Cat_id'] = df1['Cat'].factorize()[0]\n",
        "cat_id_df = df1[['Cat', 'Cat_id']].drop_duplicates()\n",
        "# Dictionaries for future use\n",
        "cat_to_id = dict(cat_id_df.values)\n",
        "id_to_cat = dict(cat_id_df[['Cat_id', 'Cat']].values)\n",
        "# New dataframe\n",
        "df1.head()"
      ],
      "metadata": {
        "colab": {
          "base_uri": "https://localhost:8080/",
          "height": 204
        },
        "id": "oTOQ9iG0RNxA",
        "outputId": "8c0bcd82-6fe9-4b0d-e855-328a7e30db59"
      },
      "execution_count": null,
      "outputs": [
        {
          "output_type": "execute_result",
          "data": {
            "text/html": [
              "\n",
              "  <div id=\"df-a46dd43f-ff99-4ff9-a241-fe97eb2e32a9\">\n",
              "    <div class=\"colab-df-container\">\n",
              "      <div>\n",
              "<style scoped>\n",
              "    .dataframe tbody tr th:only-of-type {\n",
              "        vertical-align: middle;\n",
              "    }\n",
              "\n",
              "    .dataframe tbody tr th {\n",
              "        vertical-align: top;\n",
              "    }\n",
              "\n",
              "    .dataframe thead th {\n",
              "        text-align: right;\n",
              "    }\n",
              "</style>\n",
              "<table border=\"1\" class=\"dataframe\">\n",
              "  <thead>\n",
              "    <tr style=\"text-align: right;\">\n",
              "      <th></th>\n",
              "      <th>Text</th>\n",
              "      <th>Cat</th>\n",
              "      <th>Cat_id</th>\n",
              "    </tr>\n",
              "  </thead>\n",
              "  <tbody>\n",
              "    <tr>\n",
              "      <th>0</th>\n",
              "      <td>Hi! I'm Martine Redman and I created this puzz...</td>\n",
              "      <td>puzzles</td>\n",
              "      <td>0</td>\n",
              "    </tr>\n",
              "    <tr>\n",
              "      <th>1</th>\n",
              "      <td>120 colors? I say 120 sticks of fun! And a fre...</td>\n",
              "      <td>arts crafts</td>\n",
              "      <td>1</td>\n",
              "    </tr>\n",
              "    <tr>\n",
              "      <th>2</th>\n",
              "      <td>What a wonderful creation. Art, in our house, ...</td>\n",
              "      <td>arts crafts</td>\n",
              "      <td>1</td>\n",
              "    </tr>\n",
              "    <tr>\n",
              "      <th>3</th>\n",
              "      <td>Meowth is the coolest, lots of play value. Gre...</td>\n",
              "      <td>action toy figures</td>\n",
              "      <td>2</td>\n",
              "    </tr>\n",
              "    <tr>\n",
              "      <th>4</th>\n",
              "      <td>You can give a MagnaDoodle to any kid who's ab...</td>\n",
              "      <td>arts crafts</td>\n",
              "      <td>1</td>\n",
              "    </tr>\n",
              "  </tbody>\n",
              "</table>\n",
              "</div>\n",
              "      <button class=\"colab-df-convert\" onclick=\"convertToInteractive('df-a46dd43f-ff99-4ff9-a241-fe97eb2e32a9')\"\n",
              "              title=\"Convert this dataframe to an interactive table.\"\n",
              "              style=\"display:none;\">\n",
              "        \n",
              "  <svg xmlns=\"http://www.w3.org/2000/svg\" height=\"24px\"viewBox=\"0 0 24 24\"\n",
              "       width=\"24px\">\n",
              "    <path d=\"M0 0h24v24H0V0z\" fill=\"none\"/>\n",
              "    <path d=\"M18.56 5.44l.94 2.06.94-2.06 2.06-.94-2.06-.94-.94-2.06-.94 2.06-2.06.94zm-11 1L8.5 8.5l.94-2.06 2.06-.94-2.06-.94L8.5 2.5l-.94 2.06-2.06.94zm10 10l.94 2.06.94-2.06 2.06-.94-2.06-.94-.94-2.06-.94 2.06-2.06.94z\"/><path d=\"M17.41 7.96l-1.37-1.37c-.4-.4-.92-.59-1.43-.59-.52 0-1.04.2-1.43.59L10.3 9.45l-7.72 7.72c-.78.78-.78 2.05 0 2.83L4 21.41c.39.39.9.59 1.41.59.51 0 1.02-.2 1.41-.59l7.78-7.78 2.81-2.81c.8-.78.8-2.07 0-2.86zM5.41 20L4 18.59l7.72-7.72 1.47 1.35L5.41 20z\"/>\n",
              "  </svg>\n",
              "      </button>\n",
              "      \n",
              "  <style>\n",
              "    .colab-df-container {\n",
              "      display:flex;\n",
              "      flex-wrap:wrap;\n",
              "      gap: 12px;\n",
              "    }\n",
              "\n",
              "    .colab-df-convert {\n",
              "      background-color: #E8F0FE;\n",
              "      border: none;\n",
              "      border-radius: 50%;\n",
              "      cursor: pointer;\n",
              "      display: none;\n",
              "      fill: #1967D2;\n",
              "      height: 32px;\n",
              "      padding: 0 0 0 0;\n",
              "      width: 32px;\n",
              "    }\n",
              "\n",
              "    .colab-df-convert:hover {\n",
              "      background-color: #E2EBFA;\n",
              "      box-shadow: 0px 1px 2px rgba(60, 64, 67, 0.3), 0px 1px 3px 1px rgba(60, 64, 67, 0.15);\n",
              "      fill: #174EA6;\n",
              "    }\n",
              "\n",
              "    [theme=dark] .colab-df-convert {\n",
              "      background-color: #3B4455;\n",
              "      fill: #D2E3FC;\n",
              "    }\n",
              "\n",
              "    [theme=dark] .colab-df-convert:hover {\n",
              "      background-color: #434B5C;\n",
              "      box-shadow: 0px 1px 3px 1px rgba(0, 0, 0, 0.15);\n",
              "      filter: drop-shadow(0px 1px 2px rgba(0, 0, 0, 0.3));\n",
              "      fill: #FFFFFF;\n",
              "    }\n",
              "  </style>\n",
              "\n",
              "      <script>\n",
              "        const buttonEl =\n",
              "          document.querySelector('#df-a46dd43f-ff99-4ff9-a241-fe97eb2e32a9 button.colab-df-convert');\n",
              "        buttonEl.style.display =\n",
              "          google.colab.kernel.accessAllowed ? 'block' : 'none';\n",
              "\n",
              "        async function convertToInteractive(key) {\n",
              "          const element = document.querySelector('#df-a46dd43f-ff99-4ff9-a241-fe97eb2e32a9');\n",
              "          const dataTable =\n",
              "            await google.colab.kernel.invokeFunction('convertToInteractive',\n",
              "                                                     [key], {});\n",
              "          if (!dataTable) return;\n",
              "\n",
              "          const docLinkHtml = 'Like what you see? Visit the ' +\n",
              "            '<a target=\"_blank\" href=https://colab.research.google.com/notebooks/data_table.ipynb>data table notebook</a>'\n",
              "            + ' to learn more about interactive tables.';\n",
              "          element.innerHTML = '';\n",
              "          dataTable['output_type'] = 'display_data';\n",
              "          await google.colab.output.renderOutput(dataTable, element);\n",
              "          const docLink = document.createElement('div');\n",
              "          docLink.innerHTML = docLinkHtml;\n",
              "          element.appendChild(docLink);\n",
              "        }\n",
              "      </script>\n",
              "    </div>\n",
              "  </div>\n",
              "  "
            ],
            "text/plain": [
              "                                                Text                 Cat  \\\n",
              "0  Hi! I'm Martine Redman and I created this puzz...             puzzles   \n",
              "1  120 colors? I say 120 sticks of fun! And a fre...         arts crafts   \n",
              "2  What a wonderful creation. Art, in our house, ...         arts crafts   \n",
              "3  Meowth is the coolest, lots of play value. Gre...  action toy figures   \n",
              "4  You can give a MagnaDoodle to any kid who's ab...         arts crafts   \n",
              "\n",
              "   Cat_id  \n",
              "0       0  \n",
              "1       1  \n",
              "2       1  \n",
              "3       2  \n",
              "4       1  "
            ]
          },
          "metadata": {},
          "execution_count": 46
        }
      ]
    },
    {
      "cell_type": "code",
      "source": [
        "# Visualize the data to see the frequency of each category\n",
        "fig = plt.figure(figsize=(10,8))\n",
        "colors = ['grey','grey','grey','grey','grey','grey','grey','grey','grey',\n",
        "    'grey','grey','grey','grey','grey','grey','grey','grey','darkblue','darkblue','darkblue']\n",
        "df1.groupby('Cat').Text.count().sort_values().plot.barh(\n",
        "    ylim=0, color=colors, title= 'NUMBER OF REVIEWS IN EACH PRODUCT CATEGORY')\n",
        "plt.xlabel('Frequency', fontsize = 10);"
      ],
      "metadata": {
        "colab": {
          "base_uri": "https://localhost:8080/",
          "height": 513
        },
        "id": "N5T7bHy_TrwI",
        "outputId": "364bbed5-42f9-48f1-c665-f7ca3938cad9"
      },
      "execution_count": null,
      "outputs": [
        {
          "output_type": "display_data",
          "data": {
            "image/png": "[encoded data removed]",
            "text/plain": [
              "<Figure size 720x576 with 1 Axes>"
            ]
          },
          "metadata": {
            "needs_background": "light"
          }
        }
      ]
    },
    {
      "cell_type": "markdown",
      "source": [
        "Above graph shows that most of the customers reviewed regarding:\n",
        "1. snack food\n",
        "2. nutrition wellness\n",
        "3. medical supplies equipment"
      ],
      "metadata": {
        "id": "Ou9CLiRBVHR5"
      }
    },
    {
      "cell_type": "markdown",
      "source": [
        "**Text processing**\n",
        "\n",
        "Transform the texts into vectors using Term Frequency-Inverse Document Frequency (TFIDF) and evaluate how important a particular word is in the collection of words. \n",
        "\n",
        "Remove punctuations and do lower casing, then the word importance is determined in terms of frequency.\n",
        "\n",
        "Use TfidfVectorizer function with the below parameters:\n",
        "\n",
        "min_df: remove the words which has occurred in less than ‘min_df’ number of files.\n",
        "Sublinear_tf: if True, then scale the frequency in logarithmic scale.\n",
        "Stop_words: it removes stop words which are predefined in ‘english’."
      ],
      "metadata": {
        "id": "Mtf6okUjWc7Q"
      }
    },
    {
      "cell_type": "code",
      "source": [
        "tfidf = TfidfVectorizer(sublinear_tf=True, min_df=5,\n",
        "                        ngram_range=(1, 2), \n",
        "                        stop_words='english')\n",
        "# Transform each complaint into a vector\n",
        "features = tfidf.fit_transform(df1.Text).toarray()\n",
        "labels = df1.Cat_id\n",
        "print(\"Each of the %d reviews is represented by %d features (TF-IDF score of unigrams and bigrams)\" %(features.shape))"
      ],
      "metadata": {
        "colab": {
          "base_uri": "https://localhost:8080/"
        },
        "id": "Eh0tEyi9TrtK",
        "outputId": "98f9cfba-af88-4823-b5e8-859ced9b39db"
      },
      "execution_count": null,
      "outputs": [
        {
          "output_type": "stream",
          "name": "stdout",
          "text": [
            "Each of the 5000 reviews is represented by 6001 features (TF-IDF score of unigrams and bigrams)\n"
          ]
        }
      ]
    },
    {
      "cell_type": "markdown",
      "source": [
        "Now find the most 3 correlated terms with each of the defined product categories"
      ],
      "metadata": {
        "id": "rD0OcNqYXbsL"
      }
    },
    {
      "cell_type": "code",
      "source": [
        "# Finding the three most correlated terms with each of the product categories\n",
        "N = 3\n",
        "for Cat, Cat_id in sorted(cat_to_id.items()):\n",
        "  features_chi2 = chi2(features, labels == Cat_id)\n",
        "  indices = np.argsort(features_chi2[0])\n",
        "  feature_names = np.array(tfidf.get_feature_names())[indices]\n",
        "  unigrams = [v for v in feature_names if len(v.split(' ')) == 1]\n",
        "  bigrams = [v for v in feature_names if len(v.split(' ')) == 2]\n",
        "  print(\"n==> %s:\" %(Cat))\n",
        "  print(\"  * Most Correlated Unigrams are: %s\" %(', '.join(unigrams[-N:])))\n",
        "  print(\"  * Most Correlated Bigrams are: %s\" %(', '.join(bigrams[-N:])))"
      ],
      "metadata": {
        "colab": {
          "base_uri": "https://localhost:8080/"
        },
        "id": "o5AOz7d3TrlU",
        "outputId": "8957a5ae-da32-4fde-d498-3199ae9a95b2"
      },
      "execution_count": null,
      "outputs": [
        {
          "output_type": "stream",
          "name": "stderr",
          "text": [
            "/usr/local/lib/python3.7/dist-packages/sklearn/utils/deprecation.py:87: FutureWarning: Function get_feature_names is deprecated; get_feature_names is deprecated in 1.0 and will be removed in 1.2. Please use get_feature_names_out instead.\n",
            "  warnings.warn(msg, category=FutureWarning)\n",
            "/usr/local/lib/python3.7/dist-packages/sklearn/utils/deprecation.py:87: FutureWarning: Function get_feature_names is deprecated; get_feature_names is deprecated in 1.0 and will be removed in 1.2. Please use get_feature_names_out instead.\n",
            "  warnings.warn(msg, category=FutureWarning)\n"
          ]
        },
        {
          "output_type": "stream",
          "name": "stdout",
          "text": [
            "n==> action toy figures:\n",
            "  * Most Correlated Unigrams are: zoid, figure, figures\n",
            "  * Most Correlated Bigrams are: liger zero, optimus prime, action figure\n",
            "n==> arts crafts:\n",
            "  * Most Correlated Unigrams are: paint, easel, crayons\n",
            "  * Most Correlated Bigrams are: daughter loved, making mess, dry erase\n"
          ]
        },
        {
          "output_type": "stream",
          "name": "stderr",
          "text": [
            "/usr/local/lib/python3.7/dist-packages/sklearn/utils/deprecation.py:87: FutureWarning: Function get_feature_names is deprecated; get_feature_names is deprecated in 1.0 and will be removed in 1.2. Please use get_feature_names_out instead.\n",
            "  warnings.warn(msg, category=FutureWarning)\n"
          ]
        },
        {
          "output_type": "stream",
          "name": "stdout",
          "text": [
            "n==> baby food:\n",
            "  * Most Correlated Unigrams are: cans, peach, formula\n",
            "  * Most Correlated Bigrams are: loves product, right door, earth best\n"
          ]
        },
        {
          "output_type": "stream",
          "name": "stderr",
          "text": [
            "/usr/local/lib/python3.7/dist-packages/sklearn/utils/deprecation.py:87: FutureWarning: Function get_feature_names is deprecated; get_feature_names is deprecated in 1.0 and will be removed in 1.2. Please use get_feature_names_out instead.\n",
            "  warnings.warn(msg, category=FutureWarning)\n"
          ]
        },
        {
          "output_type": "stream",
          "name": "stdout",
          "text": [
            "n==> breakfast foods:\n",
            "  * Most Correlated Unigrams are: granola, cereal, bars\n",
            "  * Most Correlated Bigrams are: bars good, cherry cashew, snack bars\n"
          ]
        },
        {
          "output_type": "stream",
          "name": "stderr",
          "text": [
            "/usr/local/lib/python3.7/dist-packages/sklearn/utils/deprecation.py:87: FutureWarning: Function get_feature_names is deprecated; get_feature_names is deprecated in 1.0 and will be removed in 1.2. Please use get_feature_names_out instead.\n",
            "  warnings.warn(msg, category=FutureWarning)\n",
            "/usr/local/lib/python3.7/dist-packages/sklearn/utils/deprecation.py:87: FutureWarning: Function get_feature_names is deprecated; get_feature_names is deprecated in 1.0 and will be removed in 1.2. Please use get_feature_names_out instead.\n",
            "  warnings.warn(msg, category=FutureWarning)\n"
          ]
        },
        {
          "output_type": "stream",
          "name": "stdout",
          "text": [
            "n==> building toys:\n",
            "  * Most Correlated Unigrams are: legos, blocks, lego\n",
            "  * Most Correlated Bigrams are: star wars, lego sets, lego set\n",
            "n==> cats:\n",
            "  * Most Correlated Unigrams are: cat, litter, cats\n",
            "  * Most Correlated Bigrams are: cat box, cats love, litter box\n"
          ]
        },
        {
          "output_type": "stream",
          "name": "stderr",
          "text": [
            "/usr/local/lib/python3.7/dist-packages/sklearn/utils/deprecation.py:87: FutureWarning: Function get_feature_names is deprecated; get_feature_names is deprecated in 1.0 and will be removed in 1.2. Please use get_feature_names_out instead.\n",
            "  warnings.warn(msg, category=FutureWarning)\n",
            "/usr/local/lib/python3.7/dist-packages/sklearn/utils/deprecation.py:87: FutureWarning: Function get_feature_names is deprecated; get_feature_names is deprecated in 1.0 and will be removed in 1.2. Please use get_feature_names_out instead.\n",
            "  warnings.warn(msg, category=FutureWarning)\n"
          ]
        },
        {
          "output_type": "stream",
          "name": "stdout",
          "text": [
            "n==> cooking baking supplies:\n",
            "  * Most Correlated Unigrams are: muffin, cake, bread\n",
            "  * Most Correlated Bigrams are: bob red, wait try, gluten free\n",
            "n==> dogs:\n",
            "  * Most Correlated Unigrams are: collar, dogs, dog\n",
            "  * Most Correlated Bigrams are: gentle leader, dogs love, dog loves\n"
          ]
        },
        {
          "output_type": "stream",
          "name": "stderr",
          "text": [
            "/usr/local/lib/python3.7/dist-packages/sklearn/utils/deprecation.py:87: FutureWarning: Function get_feature_names is deprecated; get_feature_names is deprecated in 1.0 and will be removed in 1.2. Please use get_feature_names_out instead.\n",
            "  warnings.warn(msg, category=FutureWarning)\n"
          ]
        },
        {
          "output_type": "stream",
          "name": "stdout",
          "text": [
            "n==> electronics for kids:\n",
            "  * Most Correlated Unigrams are: leapster, game, leap\n",
            "  * Most Correlated Bigrams are: baby tad, leap frog, leap pad\n"
          ]
        },
        {
          "output_type": "stream",
          "name": "stderr",
          "text": [
            "/usr/local/lib/python3.7/dist-packages/sklearn/utils/deprecation.py:87: FutureWarning: Function get_feature_names is deprecated; get_feature_names is deprecated in 1.0 and will be removed in 1.2. Please use get_feature_names_out instead.\n",
            "  warnings.warn(msg, category=FutureWarning)\n",
            "/usr/local/lib/python3.7/dist-packages/sklearn/utils/deprecation.py:87: FutureWarning: Function get_feature_names is deprecated; get_feature_names is deprecated in 1.0 and will be removed in 1.2. Please use get_feature_names_out instead.\n",
            "  warnings.warn(msg, category=FutureWarning)\n"
          ]
        },
        {
          "output_type": "stream",
          "name": "stdout",
          "text": [
            "n==> fish aquatic pets:\n",
            "  * Most Correlated Unigrams are: fish, filter, tank\n",
            "  * Most Correlated Bigrams are: crystal clear, fish tank, gallon tank\n",
            "n==> health care:\n",
            "  * Most Correlated Unigrams are: thermometer, massager, massage\n",
            "  * Most Correlated Bigrams are: product worked, great products, neck pain\n",
            "n==> household supplies:"
          ]
        },
        {
          "output_type": "stream",
          "name": "stderr",
          "text": [
            "/usr/local/lib/python3.7/dist-packages/sklearn/utils/deprecation.py:87: FutureWarning: Function get_feature_names is deprecated; get_feature_names is deprecated in 1.0 and will be removed in 1.2. Please use get_feature_names_out instead.\n",
            "  warnings.warn(msg, category=FutureWarning)\n",
            "/usr/local/lib/python3.7/dist-packages/sklearn/utils/deprecation.py:87: FutureWarning: Function get_feature_names is deprecated; get_feature_names is deprecated in 1.0 and will be removed in 1.2. Please use get_feature_names_out instead.\n",
            "  warnings.warn(msg, category=FutureWarning)\n"
          ]
        },
        {
          "output_type": "stream",
          "name": "stdout",
          "text": [
            "\n",
            "  * Most Correlated Unigrams are: mop, cleaner, batteries\n",
            "  * Most Correlated Bigrams are: digital camera, paper towels, rechargeable batteries\n",
            "n==> learning education:\n",
            "  * Most Correlated Unigrams are: monkeys, caterpillars, ants\n",
            "  * Most Correlated Bigrams are: fun watch, kids loved, sea monkeys\n"
          ]
        },
        {
          "output_type": "stream",
          "name": "stderr",
          "text": [
            "/usr/local/lib/python3.7/dist-packages/sklearn/utils/deprecation.py:87: FutureWarning: Function get_feature_names is deprecated; get_feature_names is deprecated in 1.0 and will be removed in 1.2. Please use get_feature_names_out instead.\n",
            "  warnings.warn(msg, category=FutureWarning)\n"
          ]
        },
        {
          "output_type": "stream",
          "name": "stdout",
          "text": [
            "n==> medical supplies equipment:\n",
            "  * Most Correlated Unigrams are: readings, cuff, monitor\n",
            "  * Most Correlated Bigrams are: pressure monitor, easy use, blood pressure\n"
          ]
        },
        {
          "output_type": "stream",
          "name": "stderr",
          "text": [
            "/usr/local/lib/python3.7/dist-packages/sklearn/utils/deprecation.py:87: FutureWarning: Function get_feature_names is deprecated; get_feature_names is deprecated in 1.0 and will be removed in 1.2. Please use get_feature_names_out instead.\n",
            "  warnings.warn(msg, category=FutureWarning)\n",
            "/usr/local/lib/python3.7/dist-packages/sklearn/utils/deprecation.py:87: FutureWarning: Function get_feature_names is deprecated; get_feature_names is deprecated in 1.0 and will be removed in 1.2. Please use get_feature_names_out instead.\n",
            "  warnings.warn(msg, category=FutureWarning)\n"
          ]
        },
        {
          "output_type": "stream",
          "name": "stdout",
          "text": [
            "n==> nutrition wellness:\n",
            "  * Most Correlated Unigrams are: vitamins, energy, protein\n",
            "  * Most Correlated Bigrams are: green tea, started taking, weight loss\n",
            "n==> personal care:\n",
            "  * Most Correlated Unigrams are: razor, shaver, shave\n",
            "  * Most Correlated Bigrams are: tried pumpkin, strawberry daquiri, close shave\n",
            "n==> puzzles:\n",
            "  * Most Correlated Unigrams are: pieces, puzzles, puzzle\n",
            "  * Most Correlated Bigrams are: puzzle pieces, loves puzzle, melissa doug\n"
          ]
        },
        {
          "output_type": "stream",
          "name": "stderr",
          "text": [
            "/usr/local/lib/python3.7/dist-packages/sklearn/utils/deprecation.py:87: FutureWarning: Function get_feature_names is deprecated; get_feature_names is deprecated in 1.0 and will be removed in 1.2. Please use get_feature_names_out instead.\n",
            "  warnings.warn(msg, category=FutureWarning)\n",
            "/usr/local/lib/python3.7/dist-packages/sklearn/utils/deprecation.py:87: FutureWarning: Function get_feature_names is deprecated; get_feature_names is deprecated in 1.0 and will be removed in 1.2. Please use get_feature_names_out instead.\n",
            "  warnings.warn(msg, category=FutureWarning)\n"
          ]
        },
        {
          "output_type": "stream",
          "name": "stdout",
          "text": [
            "n==> snack food:\n",
            "  * Most Correlated Unigrams are: popcorn, crackers, chips\n",
            "  * Most Correlated Bigrams are: pita chips, beef jerky, potato chips\n"
          ]
        },
        {
          "output_type": "stream",
          "name": "stderr",
          "text": [
            "/usr/local/lib/python3.7/dist-packages/sklearn/utils/deprecation.py:87: FutureWarning: Function get_feature_names is deprecated; get_feature_names is deprecated in 1.0 and will be removed in 1.2. Please use get_feature_names_out instead.\n",
            "  warnings.warn(msg, category=FutureWarning)\n",
            "/usr/local/lib/python3.7/dist-packages/sklearn/utils/deprecation.py:87: FutureWarning: Function get_feature_names is deprecated; get_feature_names is deprecated in 1.0 and will be removed in 1.2. Please use get_feature_names_out instead.\n",
            "  warnings.warn(msg, category=FutureWarning)\n"
          ]
        },
        {
          "output_type": "stream",
          "name": "stdout",
          "text": [
            "n==> sports outdoor play:\n",
            "  * Most Correlated Unigrams are: tent, swing, pool\n",
            "  * Most Correlated Bigrams are: nerf gun, swing set, little tikes\n",
            "n==> stuffed animals plush:\n",
            "  * Most Correlated Unigrams are: cuddly, bear, elmo\n",
            "  * Most Correlated Bigrams are: stuffed animal, hokey pokey, soft cuddly\n"
          ]
        }
      ]
    },
    {
      "cell_type": "markdown",
      "source": [
        "**Multi-classification Models**\n",
        "\n",
        "The classification models used here are:\n",
        "\n",
        "Random Forest\n",
        "\n",
        "- Linear Support Vector Machine\n",
        "- Multinomial Naive Bayes\n",
        "- Logistic Regression.\n",
        "\n",
        "\n",
        "Now, I will split the data into train and test sets. I will use 75% of the data for training and the rest for testing. Column ‘consumer_complaint’ will be our X or the input and the product is out Y or the output."
      ],
      "metadata": {
        "id": "ol9f2U-EYajU"
      }
    },
    {
      "cell_type": "code",
      "source": [
        "# Create test and train datasets\n",
        "X = df1['Text'] # Collection of documents\n",
        "y = df1['Cat'] # Target or the labels we want to predict \n",
        "X_train, X_test, y_train, y_test = train_test_split(X, y, \n",
        "                                                    test_size=0.25,\n",
        "                                                    random_state = 0)"
      ],
      "metadata": {
        "id": "wxEDzVDRTrdB"
      },
      "execution_count": null,
      "outputs": []
    },
    {
      "cell_type": "markdown",
      "source": [
        "I will keep all the using models in a list and loop through the list for each model to get a mean accuracy and standard deviation so that I can calculate and compare the performance for each of these models. Then we can decide with which model we can move further."
      ],
      "metadata": {
        "id": "s9ZwSKzFZM4_"
      }
    },
    {
      "cell_type": "code",
      "source": [
        "# Initiate all the models\n",
        "models = [\n",
        "    RandomForestClassifier(n_estimators=100, max_depth=5, random_state=0),\n",
        "    LinearSVC(),\n",
        "    MultinomialNB(),\n",
        "    LogisticRegression(random_state=0),\n",
        "]"
      ],
      "metadata": {
        "id": "YiBPlYipTrNh"
      },
      "execution_count": null,
      "outputs": []
    },
    {
      "cell_type": "code",
      "source": [
        "# 5 Cross-validation\n",
        "CV = 5\n",
        "cv_df = pd.DataFrame(index=range(CV * len(models)))\n",
        "entries = []\n",
        "for model in models:\n",
        "  model_name = model.__class__.__name__\n",
        "  accuracies = cross_val_score(model, features, labels, scoring='accuracy', cv=CV)\n",
        "  for fold_idx, accuracy in enumerate(accuracies):\n",
        "    entries.append((model_name, fold_idx, accuracy))\n",
        "cv_df = pd.DataFrame(entries, columns=['model_name', 'fold_idx', 'accuracy'])"
      ],
      "metadata": {
        "id": "1JKXjyWIZbje"
      },
      "execution_count": null,
      "outputs": []
    },
    {
      "cell_type": "markdown",
      "source": [
        "**Compare Text Classification Model performance**\n",
        "\n",
        "We will compare the ‘Mean Accuracy’ and ‘Standard Deviation’ for each of the four classification algorithms."
      ],
      "metadata": {
        "id": "cphMjWUIeZOx"
      }
    },
    {
      "cell_type": "code",
      "source": [
        "# Calculate mean and std accuracy\n",
        "mean_accuracy = cv_df.groupby('model_name').accuracy.mean()\n",
        "std_accuracy = cv_df.groupby('model_name').accuracy.std()\n",
        "\n",
        "acc = pd.concat([mean_accuracy, std_accuracy], axis= 1, \n",
        "          ignore_index=True)\n",
        "acc.columns = ['Mean Accuracy', 'Standard deviation']\n",
        "acc"
      ],
      "metadata": {
        "colab": {
          "base_uri": "https://localhost:8080/",
          "height": 204
        },
        "id": "nj3urYdTZanL",
        "outputId": "105c62db-4010-445c-fbc9-72bc80863037"
      },
      "execution_count": null,
      "outputs": [
        {
          "output_type": "execute_result",
          "data": {
            "text/html": [
              "\n",
              "  <div id=\"df-45b06642-c6e0-4284-899f-a050ecd1a7db\">\n",
              "    <div class=\"colab-df-container\">\n",
              "      <div>\n",
              "<style scoped>\n",
              "    .dataframe tbody tr th:only-of-type {\n",
              "        vertical-align: middle;\n",
              "    }\n",
              "\n",
              "    .dataframe tbody tr th {\n",
              "        vertical-align: top;\n",
              "    }\n",
              "\n",
              "    .dataframe thead th {\n",
              "        text-align: right;\n",
              "    }\n",
              "</style>\n",
              "<table border=\"1\" class=\"dataframe\">\n",
              "  <thead>\n",
              "    <tr style=\"text-align: right;\">\n",
              "      <th></th>\n",
              "      <th>Mean Accuracy</th>\n",
              "      <th>Standard deviation</th>\n",
              "    </tr>\n",
              "    <tr>\n",
              "      <th>model_name</th>\n",
              "      <th></th>\n",
              "      <th></th>\n",
              "    </tr>\n",
              "  </thead>\n",
              "  <tbody>\n",
              "    <tr>\n",
              "      <th>LinearSVC</th>\n",
              "      <td>0.6564</td>\n",
              "      <td>0.021349</td>\n",
              "    </tr>\n",
              "    <tr>\n",
              "      <th>LogisticRegression</th>\n",
              "      <td>0.6422</td>\n",
              "      <td>0.021638</td>\n",
              "    </tr>\n",
              "    <tr>\n",
              "      <th>MultinomialNB</th>\n",
              "      <td>0.5772</td>\n",
              "      <td>0.021948</td>\n",
              "    </tr>\n",
              "    <tr>\n",
              "      <th>RandomForestClassifier</th>\n",
              "      <td>0.3384</td>\n",
              "      <td>0.016410</td>\n",
              "    </tr>\n",
              "  </tbody>\n",
              "</table>\n",
              "</div>\n",
              "      <button class=\"colab-df-convert\" onclick=\"convertToInteractive('df-45b06642-c6e0-4284-899f-a050ecd1a7db')\"\n",
              "              title=\"Convert this dataframe to an interactive table.\"\n",
              "              style=\"display:none;\">\n",
              "        \n",
              "  <svg xmlns=\"http://www.w3.org/2000/svg\" height=\"24px\"viewBox=\"0 0 24 24\"\n",
              "       width=\"24px\">\n",
              "    <path d=\"M0 0h24v24H0V0z\" fill=\"none\"/>\n",
              "    <path d=\"M18.56 5.44l.94 2.06.94-2.06 2.06-.94-2.06-.94-.94-2.06-.94 2.06-2.06.94zm-11 1L8.5 8.5l.94-2.06 2.06-.94-2.06-.94L8.5 2.5l-.94 2.06-2.06.94zm10 10l.94 2.06.94-2.06 2.06-.94-2.06-.94-.94-2.06-.94 2.06-2.06.94z\"/><path d=\"M17.41 7.96l-1.37-1.37c-.4-.4-.92-.59-1.43-.59-.52 0-1.04.2-1.43.59L10.3 9.45l-7.72 7.72c-.78.78-.78 2.05 0 2.83L4 21.41c.39.39.9.59 1.41.59.51 0 1.02-.2 1.41-.59l7.78-7.78 2.81-2.81c.8-.78.8-2.07 0-2.86zM5.41 20L4 18.59l7.72-7.72 1.47 1.35L5.41 20z\"/>\n",
              "  </svg>\n",
              "      </button>\n",
              "      \n",
              "  <style>\n",
              "    .colab-df-container {\n",
              "      display:flex;\n",
              "      flex-wrap:wrap;\n",
              "      gap: 12px;\n",
              "    }\n",
              "\n",
              "    .colab-df-convert {\n",
              "      background-color: #E8F0FE;\n",
              "      border: none;\n",
              "      border-radius: 50%;\n",
              "      cursor: pointer;\n",
              "      display: none;\n",
              "      fill: #1967D2;\n",
              "      height: 32px;\n",
              "      padding: 0 0 0 0;\n",
              "      width: 32px;\n",
              "    }\n",
              "\n",
              "    .colab-df-convert:hover {\n",
              "      background-color: #E2EBFA;\n",
              "      box-shadow: 0px 1px 2px rgba(60, 64, 67, 0.3), 0px 1px 3px 1px rgba(60, 64, 67, 0.15);\n",
              "      fill: #174EA6;\n",
              "    }\n",
              "\n",
              "    [theme=dark] .colab-df-convert {\n",
              "      background-color: #3B4455;\n",
              "      fill: #D2E3FC;\n",
              "    }\n",
              "\n",
              "    [theme=dark] .colab-df-convert:hover {\n",
              "      background-color: #434B5C;\n",
              "      box-shadow: 0px 1px 3px 1px rgba(0, 0, 0, 0.15);\n",
              "      filter: drop-shadow(0px 1px 2px rgba(0, 0, 0, 0.3));\n",
              "      fill: #FFFFFF;\n",
              "    }\n",
              "  </style>\n",
              "\n",
              "      <script>\n",
              "        const buttonEl =\n",
              "          document.querySelector('#df-45b06642-c6e0-4284-899f-a050ecd1a7db button.colab-df-convert');\n",
              "        buttonEl.style.display =\n",
              "          google.colab.kernel.accessAllowed ? 'block' : 'none';\n",
              "\n",
              "        async function convertToInteractive(key) {\n",
              "          const element = document.querySelector('#df-45b06642-c6e0-4284-899f-a050ecd1a7db');\n",
              "          const dataTable =\n",
              "            await google.colab.kernel.invokeFunction('convertToInteractive',\n",
              "                                                     [key], {});\n",
              "          if (!dataTable) return;\n",
              "\n",
              "          const docLinkHtml = 'Like what you see? Visit the ' +\n",
              "            '<a target=\"_blank\" href=https://colab.research.google.com/notebooks/data_table.ipynb>data table notebook</a>'\n",
              "            + ' to learn more about interactive tables.';\n",
              "          element.innerHTML = '';\n",
              "          dataTable['output_type'] = 'display_data';\n",
              "          await google.colab.output.renderOutput(dataTable, element);\n",
              "          const docLink = document.createElement('div');\n",
              "          docLink.innerHTML = docLinkHtml;\n",
              "          element.appendChild(docLink);\n",
              "        }\n",
              "      </script>\n",
              "    </div>\n",
              "  </div>\n",
              "  "
            ],
            "text/plain": [
              "                        Mean Accuracy  Standard deviation\n",
              "model_name                                               \n",
              "LinearSVC                      0.6564            0.021349\n",
              "LogisticRegression             0.6422            0.021638\n",
              "MultinomialNB                  0.5772            0.021948\n",
              "RandomForestClassifier         0.3384            0.016410"
            ]
          },
          "metadata": {},
          "execution_count": 41
        }
      ]
    },
    {
      "cell_type": "code",
      "source": [
        "# Visualize the result\n",
        "plt.figure(figsize=(8,5))\n",
        "sns.boxplot(x='model_name', y='accuracy', \n",
        "            data=cv_df, \n",
        "            color='lightblue', \n",
        "            showmeans=True)\n",
        "plt.title(\"MEAN ACCURACY (cv = 5)n\", size=14);"
      ],
      "metadata": {
        "colab": {
          "base_uri": "https://localhost:8080/",
          "height": 352
        },
        "id": "5VLaBvxsZaZe",
        "outputId": "cd8e130c-d17d-4942-94f9-7ed6a0177926"
      },
      "execution_count": null,
      "outputs": [
        {
          "output_type": "display_data",
          "data": {
            "image/png": "[encoded data removed]",
            "text/plain": [
              "<Figure size 576x360 with 1 Axes>"
            ]
          },
          "metadata": {
            "needs_background": "light"
          }
        }
      ]
    },
    {
      "cell_type": "markdown",
      "source": [
        "The chart shows that ‘Linear Support Vector Machine’ outperforms all the other classification algorithms. So, we will use LinearSVC to train model multi-class text classification tasks."
      ],
      "metadata": {
        "id": "sLFVMbXNe0l1"
      }
    },
    {
      "cell_type": "markdown",
      "source": [
        "**Evaluation of Text Classification Model**\n",
        "\n",
        "Now, let's train our model using ‘Linear Support Vector Machine’, so that we \n",
        "\n",
        "can evaluate and check it performance on unseen data."
      ],
      "metadata": {
        "id": "ABZMU4DtfK1_"
      }
    },
    {
      "cell_type": "code",
      "source": [
        "# Train the model\n",
        "X_train, X_test, y_train, y_test,indices_train,indices_test = train_test_split(features, \n",
        "                                                               labels, \n",
        "                                                               df1.index, test_size=0.25, \n",
        "                                                               random_state=1)\n",
        "model = LinearSVC()\n",
        "model.fit(X_train, y_train)\n",
        "y_pred = model.predict(X_test)"
      ],
      "metadata": {
        "id": "1fakrzEjfqIB"
      },
      "execution_count": null,
      "outputs": []
    },
    {
      "cell_type": "code",
      "source": [
        "# Classification report to get more insights on model performance\n",
        "print('ttttCLASSIFICATIION METRICSn')\n",
        "print(metrics.classification_report(y_test, y_pred, \n",
        "                                    target_names= df1['Cat'].unique()))"
      ],
      "metadata": {
        "colab": {
          "base_uri": "https://localhost:8080/"
        },
        "id": "ulF3cfJHfxxU",
        "outputId": "414728b2-619a-43b4-d594-5fda8988a0e7"
      },
      "execution_count": null,
      "outputs": [
        {
          "output_type": "stream",
          "name": "stdout",
          "text": [
            "ttttCLASSIFICATIION METRICSn\n",
            "                            precision    recall  f1-score   support\n",
            "\n",
            "                   puzzles       0.78      0.88      0.82        40\n",
            "               arts crafts       0.63      0.67      0.65        57\n",
            "        action toy figures       0.65      0.56      0.60        63\n",
            "             personal care       0.77      0.83      0.80        64\n",
            "        nutrition wellness       0.63      0.67      0.65        97\n",
            "        learning education       0.52      0.35      0.42        48\n",
            "      electronics for kids       0.41      0.49      0.45        39\n",
            "        household supplies       0.70      0.73      0.72        86\n",
            "     stuffed animals plush       0.61      0.62      0.62        45\n",
            "               health care       0.53      0.53      0.53        76\n",
            "medical supplies equipment       0.63      0.72      0.68       109\n",
            "             building toys       0.67      0.67      0.67        52\n",
            "       sports outdoor play       0.75      0.66      0.70        70\n",
            "                      cats       0.84      0.69      0.76        55\n",
            "                      dogs       0.69      0.78      0.74        64\n",
            "           breakfast foods       0.68      0.66      0.67        70\n",
            "   cooking baking supplies       0.64      0.33      0.44        21\n",
            "                snack food       0.81      0.83      0.82       139\n",
            "                 baby food       0.56      0.56      0.56         9\n",
            "         fish aquatic pets       0.81      0.74      0.77        46\n",
            "\n",
            "                  accuracy                           0.68      1250\n",
            "                 macro avg       0.67      0.65      0.65      1250\n",
            "              weighted avg       0.68      0.68      0.68      1250\n",
            "\n"
          ]
        }
      ]
    },
    {
      "cell_type": "markdown",
      "source": [
        "From the classification report, we can observe that the classes which have a greater number of occurrences tend to have a good f1-score compared to other classes. The categories which yield better classification results are ‘snack food’, ‘fish aquatic pets’ and ‘cats’. "
      ],
      "metadata": {
        "id": "gY7VaRuDgPoz"
      }
    },
    {
      "cell_type": "code",
      "source": [
        "# Plot the confusion matrix to check the miss classified predictions\n",
        "conf_mat = confusion_matrix(y_test, y_pred)\n",
        "fig, ax = plt.subplots(figsize=(10,10))\n",
        "sns.heatmap(conf_mat, annot=True, cmap=\"Blues\", fmt='d',\n",
        "            xticklabels=cat_id_df.Cat.values, \n",
        "            yticklabels=cat_id_df.Cat.values)\n",
        "plt.ylabel('Actual')\n",
        "plt.xlabel('Predicted')\n",
        "plt.title(\"CONFUSION MATRIX - LinearSVC\", size=16);"
      ],
      "metadata": {
        "colab": {
          "base_uri": "https://localhost:8080/",
          "height": 754
        },
        "id": "ZLd5K47XgJjB",
        "outputId": "a753153c-06eb-4c6a-fbe5-5e71adbc28a0"
      },
      "execution_count": null,
      "outputs": [
        {
          "output_type": "display_data",
          "data": {
            "image/png": "[encoded data removed]",
            "text/plain": [
              "<Figure size 720x720 with 2 Axes>"
            ]
          },
          "metadata": {
            "needs_background": "light"
          }
        }
      ]
    },
    {
      "cell_type": "markdown",
      "source": [
        "The confusion matrix shows that the model performs well. It has classified most of the categories accurately."
      ],
      "metadata": {
        "id": "P637XBuJTqtY"
      }
    },
    {
      "cell_type": "markdown",
      "source": [
        "**Prediction**\n",
        "\n",
        "Now make some prediction on the new data and check the model performance."
      ],
      "metadata": {
        "id": "88rn7J0jjHk-"
      }
    },
    {
      "cell_type": "code",
      "source": [
        "X_train, X_test, y_train, y_test = train_test_split(X, y, \n",
        "                                                    test_size=0.25,\n",
        "                                                    random_state = 0)\n",
        "tfidf = TfidfVectorizer(sublinear_tf=True, min_df=5,\n",
        "                        ngram_range=(1, 2), \n",
        "                        stop_words='english')\n",
        "fitted_vectorizer = tfidf.fit(X_train)\n",
        "tfidf_vectorizer_vectors = fitted_vectorizer.transform(X_train)\n",
        "model = LinearSVC().fit(tfidf_vectorizer_vectors, y_train)"
      ],
      "metadata": {
        "id": "ubHR4gWgjNJf"
      },
      "execution_count": null,
      "outputs": []
    },
    {
      "cell_type": "code",
      "source": [
        "Text = \"\"\"I have received muffin, cake and bread. And i can't wait to try. \"\"\"\n",
        "print(model.predict(fitted_vectorizer.transform([Text])))"
      ],
      "metadata": {
        "colab": {
          "base_uri": "https://localhost:8080/"
        },
        "id": "_Z1-l5vwjSI2",
        "outputId": "c6d98040-63c7-48f5-f12a-db0386460860"
      },
      "execution_count": null,
      "outputs": [
        {
          "output_type": "stream",
          "name": "stdout",
          "text": [
            "['cooking baking supplies']\n"
          ]
        }
      ]
    },
    {
      "cell_type": "markdown",
      "source": [
        "I used the most frequent words in the reviews for cooking baking supplies category. The model predicts accurately! "
      ],
      "metadata": {
        "id": "SPj4fTHfkfpN"
      }
    },
    {
      "cell_type": "code",
      "source": [
        ""
      ],
      "metadata": {
        "id": "Blp9Zyl1jM4s"
      },
      "execution_count": null,
      "outputs": []
    },
    {
      "cell_type": "markdown",
      "metadata": {
        "pycharm": {
          "name": "#%% md\n"
        },
        "id": "0OLngdUtEMnV"
      },
      "source": [
        "\n",
        "### Q 3.2 Build a Method for Determining a Hierarchy\n",
        "\n",
        "#### Overview\n",
        "\n",
        "This exercise is a representation of the challenges we face with our growing topic taxonomy. You are asked to create a method to automatically determine a hierarchy for different products using the “option_2.csv” dataset. There is a list of 5K reviews for several product categories. In this dataset the hierarchy is already provided (each review maps to the child category “Cat1”, and then to the parent category “Cat2”). Separate each review into “Cat1” categories and then given this child category, determine a method to predict the parent category.\n",
        "\n",
        "#### Hint\n",
        "A possible approach would be to take the data from each “Cat1” category and create clusters that closely map to each “Cat2” categories.\n",
        "\n",
        "#### Data\n",
        "“Text” – A review given by a customer for a purchased item\n",
        "\n",
        "“Cat1” – A low level child category for each review\n",
        "\n",
        "“Cat2” – A high level parent category for each review\n"
      ]
    },
    {
      "cell_type": "code",
      "execution_count": null,
      "metadata": {
        "id": "YsgLyYZrEMnV"
      },
      "outputs": [],
      "source": [
        ""
      ]
    }
  ],
  "metadata": {
    "kernelspec": {
      "display_name": "Python [conda env:bombora-datascience-exam]",
      "language": "python",
      "name": "conda-env-bombora-datascience-exam-py"
    },
    "language_info": {
      "codemirror_mode": {
        "name": "ipython",
        "version": 3
      },
      "file_extension": ".py",
      "mimetype": "text/x-python",
      "name": "python",
      "nbconvert_exporter": "python",
      "pygments_lexer": "ipython3",
      "version": "3.5.2"
    },
    "colab": {
      "name": "Answer-ds-interview-exam-Thao-Duyen-Tran.ipynb",
      "provenance": [],
      "collapsed_sections": [],
      "include_colab_link": true
    }
  },
  "nbformat": 4,
  "nbformat_minor": 0
}